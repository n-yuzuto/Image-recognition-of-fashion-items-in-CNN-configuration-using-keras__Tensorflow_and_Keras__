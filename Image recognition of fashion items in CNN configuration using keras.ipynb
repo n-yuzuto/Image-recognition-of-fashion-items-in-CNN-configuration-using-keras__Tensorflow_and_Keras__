{
 "cells": [
  {
   "cell_type": "code",
   "execution_count": 1,
   "id": "cf4b68a0",
   "metadata": {},
   "outputs": [],
   "source": [
    "# 環境の問題：　 libiomp5.dylib というファイルがダブってる。その対応\n",
    "import os\n",
    "os.environ['KMP_DUPLICATE_LIB_OK']='TRUE'"
   ]
  },
  {
   "cell_type": "markdown",
   "id": "39d1f4a4",
   "metadata": {},
   "source": [
    "## データのダウンロード"
   ]
  },
  {
   "cell_type": "code",
   "execution_count": 2,
   "id": "fc08d57f",
   "metadata": {},
   "outputs": [],
   "source": [
    "from tensorflow.keras.datasets import fashion_mnist\n",
    "(x_train, y_train), (x_test, y_test) = fashion_mnist.load_data()"
   ]
  },
  {
   "cell_type": "markdown",
   "id": "c618b989",
   "metadata": {},
   "source": [
    "## 前処理"
   ]
  },
  {
   "cell_type": "code",
   "execution_count": 3,
   "id": "5e974a83",
   "metadata": {},
   "outputs": [],
   "source": [
    "x_train = x_train.reshape(-1, 28, 28, 1)\n",
    "x_train = x_train.astype(\"float32\")\n",
    "x_train /= 255\n",
    "\n",
    "x_test = x_test.reshape(-1, 28, 28, 1)\n",
    "x_test = x_test.astype(\"float32\")\n",
    "x_test /= 255"
   ]
  },
  {
   "cell_type": "markdown",
   "id": "d1f60d85",
   "metadata": {},
   "source": [
    "## 畳み込みネットワークの構築"
   ]
  },
  {
   "cell_type": "code",
   "execution_count": 4,
   "id": "223e033e",
   "metadata": {},
   "outputs": [
    {
     "name": "stdout",
     "output_type": "stream",
     "text": [
      "Model: \"sequential\"\n",
      "_________________________________________________________________\n",
      "Layer (type)                 Output Shape              Param #   \n",
      "=================================================================\n",
      "conv2d (Conv2D)              (None, 28, 28, 32)        320       \n",
      "_________________________________________________________________\n",
      "flatten (Flatten)            (None, 25088)             0         \n",
      "_________________________________________________________________\n",
      "dropout (Dropout)            (None, 25088)             0         \n",
      "_________________________________________________________________\n",
      "dense (Dense)                (None, 10)                250890    \n",
      "=================================================================\n",
      "Total params: 251,210\n",
      "Trainable params: 251,210\n",
      "Non-trainable params: 0\n",
      "_________________________________________________________________\n"
     ]
    }
   ],
   "source": [
    "from tensorflow.keras.models import Sequential\n",
    "from tensorflow.keras.layers import Dense, Conv2D, Dropout, Flatten\n",
    "from tensorflow.keras.optimizers import SGD\n",
    "\n",
    "model = Sequential()\n",
    "\n",
    "model.add(\n",
    "        Conv2D(filters=32,\n",
    "                       kernel_size=(3,3),\n",
    "                      padding=\"same\",\n",
    "                      input_shape=(28, 28,1),\n",
    "                      activation=\"relu\"\n",
    "                      ))\n",
    "model.add(Flatten())\n",
    "model.add(Dropout(0.5))\n",
    "model.add(Dense(10,\n",
    "                               activation=\"softmax\"\n",
    "                               ))\n",
    "model.compile(\n",
    "        loss=\"sparse_categorical_crossentropy\",\n",
    "        optimizer=SGD(lr=0.1),\n",
    "        metrics=[\"accuracy\"])\n",
    "\n",
    "model.summary()"
   ]
  },
  {
   "cell_type": "markdown",
   "id": "f0307a40",
   "metadata": {},
   "source": [
    "## 学習の実行"
   ]
  },
  {
   "cell_type": "code",
   "execution_count": 5,
   "id": "190d779b",
   "metadata": {
    "scrolled": true
   },
   "outputs": [
    {
     "name": "stdout",
     "output_type": "stream",
     "text": [
      "Train on 48000 samples, validate on 12000 samples\n",
      "Epoch 1/30\n",
      "48000/48000 [==============================] - 63s 1ms/sample - loss: 0.5772 - accuracy: 0.8067 - val_loss: 0.4212 - val_accuracy: 0.8512\n",
      "Epoch 2/30\n",
      "48000/48000 [==============================] - 61s 1ms/sample - loss: 0.3930 - accuracy: 0.8611 - val_loss: 0.3667 - val_accuracy: 0.8702\n",
      "Epoch 3/30\n",
      "48000/48000 [==============================] - 60s 1ms/sample - loss: 0.3628 - accuracy: 0.8725 - val_loss: 0.3645 - val_accuracy: 0.8691\n",
      "Epoch 4/30\n",
      "48000/48000 [==============================] - 66s 1ms/sample - loss: 0.3391 - accuracy: 0.8791 - val_loss: 0.3409 - val_accuracy: 0.8803\n",
      "Epoch 5/30\n",
      "48000/48000 [==============================] - 60s 1ms/sample - loss: 0.3287 - accuracy: 0.8833 - val_loss: 0.3311 - val_accuracy: 0.8802\n",
      "Epoch 6/30\n",
      "48000/48000 [==============================] - 61s 1ms/sample - loss: 0.3164 - accuracy: 0.8861 - val_loss: 0.3089 - val_accuracy: 0.8922\n",
      "Epoch 7/30\n",
      "48000/48000 [==============================] - 61s 1ms/sample - loss: 0.3038 - accuracy: 0.8914 - val_loss: 0.3145 - val_accuracy: 0.8869\n",
      "Epoch 8/30\n",
      "48000/48000 [==============================] - 60s 1ms/sample - loss: 0.2988 - accuracy: 0.8940 - val_loss: 0.3053 - val_accuracy: 0.8921\n",
      "Epoch 9/30\n",
      "48000/48000 [==============================] - 61s 1ms/sample - loss: 0.2890 - accuracy: 0.8958 - val_loss: 0.2999 - val_accuracy: 0.8942\n",
      "Epoch 10/30\n",
      "48000/48000 [==============================] - 64s 1ms/sample - loss: 0.2824 - accuracy: 0.8981 - val_loss: 0.2935 - val_accuracy: 0.8973\n",
      "Epoch 11/30\n",
      "48000/48000 [==============================] - 65s 1ms/sample - loss: 0.2758 - accuracy: 0.9008 - val_loss: 0.3100 - val_accuracy: 0.8903\n",
      "Epoch 12/30\n",
      "48000/48000 [==============================] - 57s 1ms/sample - loss: 0.2704 - accuracy: 0.9035 - val_loss: 0.2971 - val_accuracy: 0.8936\n",
      "Epoch 13/30\n",
      "48000/48000 [==============================] - 54s 1ms/sample - loss: 0.2650 - accuracy: 0.9044 - val_loss: 0.2893 - val_accuracy: 0.8983\n",
      "Epoch 14/30\n",
      "48000/48000 [==============================] - 53s 1ms/sample - loss: 0.2629 - accuracy: 0.9047 - val_loss: 0.2856 - val_accuracy: 0.8979\n",
      "Epoch 15/30\n",
      "48000/48000 [==============================] - 53s 1ms/sample - loss: 0.2599 - accuracy: 0.9053 - val_loss: 0.2807 - val_accuracy: 0.8991\n",
      "Epoch 16/30\n",
      "48000/48000 [==============================] - 53s 1ms/sample - loss: 0.2542 - accuracy: 0.9078 - val_loss: 0.2806 - val_accuracy: 0.9021\n",
      "Epoch 17/30\n",
      "48000/48000 [==============================] - 54s 1ms/sample - loss: 0.2485 - accuracy: 0.9100 - val_loss: 0.2849 - val_accuracy: 0.9001\n",
      "Epoch 18/30\n",
      "48000/48000 [==============================] - 56s 1ms/sample - loss: 0.2476 - accuracy: 0.9091 - val_loss: 0.2796 - val_accuracy: 0.9006\n",
      "Epoch 19/30\n",
      "48000/48000 [==============================] - 54s 1ms/sample - loss: 0.2444 - accuracy: 0.9101 - val_loss: 0.2832 - val_accuracy: 0.9001\n",
      "Epoch 20/30\n",
      "48000/48000 [==============================] - 53s 1ms/sample - loss: 0.2422 - accuracy: 0.9127 - val_loss: 0.2807 - val_accuracy: 0.9018\n",
      "Epoch 21/30\n",
      "48000/48000 [==============================] - 52s 1ms/sample - loss: 0.2360 - accuracy: 0.9132 - val_loss: 0.2879 - val_accuracy: 0.9009\n",
      "Epoch 22/30\n",
      "48000/48000 [==============================] - 52s 1ms/sample - loss: 0.2324 - accuracy: 0.9157 - val_loss: 0.2794 - val_accuracy: 0.9021\n",
      "Epoch 23/30\n",
      "48000/48000 [==============================] - 52s 1ms/sample - loss: 0.2324 - accuracy: 0.9149 - val_loss: 0.2888 - val_accuracy: 0.8992\n",
      "Epoch 24/30\n",
      "48000/48000 [==============================] - 53s 1ms/sample - loss: 0.2288 - accuracy: 0.9180 - val_loss: 0.2877 - val_accuracy: 0.9004\n",
      "Epoch 25/30\n",
      "48000/48000 [==============================] - 53s 1ms/sample - loss: 0.2269 - accuracy: 0.9161 - val_loss: 0.2834 - val_accuracy: 0.8997\n",
      "Epoch 26/30\n",
      "48000/48000 [==============================] - 52s 1ms/sample - loss: 0.2247 - accuracy: 0.9190 - val_loss: 0.2875 - val_accuracy: 0.9003\n",
      "Epoch 27/30\n",
      "48000/48000 [==============================] - 53s 1ms/sample - loss: 0.2229 - accuracy: 0.9184 - val_loss: 0.2858 - val_accuracy: 0.9010\n",
      "Epoch 00027: early stopping\n",
      "Test loss: 0.2983441833376885\n",
      "Test accuracy: 0.8933\n",
      "CPU times: user 2h 1min 43s, sys: 45min 41s, total: 2h 47min 24s\n",
      "Wall time: 25min 40s\n"
     ]
    }
   ],
   "source": [
    "%%time\n",
    "\n",
    "from tensorflow.keras.callbacks import EarlyStopping\n",
    "\n",
    "early_stopping = EarlyStopping(\n",
    "        monitor=\"val_loss\",\n",
    "        patience=5,\n",
    "        verbose=1\n",
    ")\n",
    "\n",
    "training_epochs = 30\n",
    "batch_size = 64\n",
    "\n",
    "history = model.fit(\n",
    "        x_train,\n",
    "        y_train,\n",
    "        epochs=training_epochs,\n",
    "        batch_size=batch_size,\n",
    "        verbose=1,\n",
    "        validation_split=0.2,\n",
    "        shuffle=True,\n",
    "        callbacks=[early_stopping]\n",
    "        )\n",
    "\n",
    "score = model.evaluate(x_test, y_test, verbose=0)\n",
    "\n",
    "print(\"Test loss:\", score[0])\n",
    "print(\"Test accuracy:\", score[1])"
   ]
  },
  {
   "cell_type": "markdown",
   "id": "1050270c",
   "metadata": {},
   "source": [
    "## 損失と精度の推移をグラフに"
   ]
  },
  {
   "cell_type": "code",
   "execution_count": 8,
   "id": "e95e1c82",
   "metadata": {},
   "outputs": [
    {
     "data": {
      "image/png": "[encoded data removed]",
      "text/plain": [
       "<Figure size 1080x432 with 2 Axes>"
      ]
     },
     "metadata": {
      "needs_background": "light"
     },
     "output_type": "display_data"
    }
   ],
   "source": [
    "%matplotlib inline\n",
    "import matplotlib.pyplot as plt\n",
    "\n",
    "plt.figure(figsize=(15, 6))\n",
    "plt.subplots_adjust(wspace=0.2)\n",
    "\n",
    "plt.subplot(1,2,1)\n",
    "\n",
    "plt.plot(history.history[\"loss\"],\n",
    "                label=\"training\",\n",
    "                color=\"black\")\n",
    "\n",
    "plt.plot(history.history[\"val_loss\"],\n",
    "                label=\"validation\",\n",
    "                color=\"red\")\n",
    "plt.ylim(0,1)\n",
    "plt.legend()\n",
    "plt.grid()\n",
    "plt.xlabel(\"epoch\")\n",
    "plt.ylabel(\"loss\")\n",
    "\n",
    "\n",
    "plt.subplot(1,2,2)\n",
    "plt.plot(history.history[\"accuracy\"],\n",
    "                label=\"training\",\n",
    "                color=\"black\")\n",
    "\n",
    "plt.plot(history.history[\"val_accuracy\"],\n",
    "                label=\"validation\",\n",
    "                color=\"red\")\n",
    "plt.ylim(0.5, 1)\n",
    "plt.legend()\n",
    "plt.grid()\n",
    "plt.xlabel(\"epoch\")\n",
    "plt.ylabel(\"acc\")\n",
    "plt.show()\n"
   ]
  },
  {
   "cell_type": "markdown",
   "id": "8e630ae9",
   "metadata": {},
   "source": [
    "## 5エポック以降は損失、正解率共にほぼ横ばいになっている。\n",
    "## しかし、訓練データの損失は5エポック以降も下がり続け、正解率は上昇を続けている。ドロップアウトを適用したが、若干のオーバーフィッティングが発生していると考えられる。\n",
    "## この解決法として正則化が考えられる。"
   ]
  }
 ],
 "metadata": {
  "kernelspec": {
   "display_name": "Python 3",
   "language": "python",
   "name": "python3"
  },
  "language_info": {
   "codemirror_mode": {
    "name": "ipython",
    "version": 3
   },
   "file_extension": ".py",
   "mimetype": "text/x-python",
   "name": "python",
   "nbconvert_exporter": "python",
   "pygments_lexer": "ipython3",
   "version": "3.7.10"
  }
 },
 "nbformat": 4,
 "nbformat_minor": 5
}
